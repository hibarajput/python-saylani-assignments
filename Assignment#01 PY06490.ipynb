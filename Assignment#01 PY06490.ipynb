{
 "cells": [
  {
   "cell_type": "code",
   "execution_count": 2,
   "metadata": {},
   "outputs": [
    {
     "name": "stdout",
     "output_type": "stream",
     "text": [
      "your first namehiba\n",
      "Your Last namenaeem\n",
      "meean abih\n"
     ]
    }
   ],
   "source": [
    "first_name= input(\"your first name\")\n",
    "Last_name = input(\"Your Last name\")\n",
    "txt= (first_name+ \" \"+ Last_name)[::-1]\n",
    "print(txt)"
   ]
  },
  {
   "cell_type": "code",
   "execution_count": 3,
   "metadata": {},
   "outputs": [
    {
     "name": "stdout",
     "output_type": "stream",
     "text": [
      "3.7.1\n"
     ]
    }
   ],
   "source": [
    "import platform\n",
    "print(platform.python_version())"
   ]
  },
  {
   "cell_type": "code",
   "execution_count": 11,
   "metadata": {},
   "outputs": [
    {
     "name": "stdout",
     "output_type": "stream",
     "text": [
      "02/11/201923:08:49\n"
     ]
    }
   ],
   "source": [
    "import datetime\n",
    "now=datetime.datetime.now()\n",
    "dt_st=now.strftime(\"%d/%m/%Y%H:%M:%S\")\n",
    "print(dt_st)"
   ]
  },
  {
   "cell_type": "code",
   "execution_count": 12,
   "metadata": {},
   "outputs": [
    {
     "name": "stdout",
     "output_type": "stream",
     "text": [
      "radius3\n",
      "84.78\n"
     ]
    }
   ],
   "source": [
    "radius= int(input(\"radius\"))\n",
    "pi=3.14\n",
    "Area = pi * radius ** radius\n",
    "print(Area)"
   ]
  },
  {
   "cell_type": "code",
   "execution_count": 16,
   "metadata": {},
   "outputs": [
    {
     "name": "stdout",
     "output_type": "stream",
     "text": [
      "first number3\n",
      "second number3\n",
      "6\n"
     ]
    }
   ],
   "source": [
    "A=int(input(\"first number\"))\n",
    "B=int(input(\"second number\"))\n",
    "C=A+B\n",
    "print(int(C))"
   ]
  },
  {
   "cell_type": "code",
   "execution_count": 21,
   "metadata": {},
   "outputs": [
    {
     "name": "stdout",
     "output_type": "stream",
     "text": [
      "Twinkle, twinkle, little star,\n",
      "      How I wonder what you are! \n",
      "             Up above the world so high, \n",
      "             Like a diamond in the sky. \n",
      "Twinkle, twinkle, little star, \n",
      "      How I wonder what you are\n"
     ]
    }
   ],
   "source": [
    "print (\"\"\"Twinkle, twinkle, little star,\n",
    "      How I wonder what you are! \n",
    "             Up above the world so high, \n",
    "             Like a diamond in the sky. \n",
    "Twinkle, twinkle, little star, \n",
    "      How I wonder what you are\"\"\")"
   ]
  },
  {
   "cell_type": "code",
   "execution_count": null,
   "metadata": {},
   "outputs": [],
   "source": []
  }
 ],
 "metadata": {
  "kernelspec": {
   "display_name": "Python 3",
   "language": "python",
   "name": "python3"
  },
  "language_info": {
   "codemirror_mode": {
    "name": "ipython",
    "version": 3
   },
   "file_extension": ".py",
   "mimetype": "text/x-python",
   "name": "python",
   "nbconvert_exporter": "python",
   "pygments_lexer": "ipython3",
   "version": "3.7.1"
  }
 },
 "nbformat": 4,
 "nbformat_minor": 2
}
